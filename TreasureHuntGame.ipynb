{
 "cells": [
  {
   "cell_type": "markdown",
   "metadata": {},
   "source": [
    "# Treasure Hunt Game Notebook\n",
    "\n",
    "## Read and Review Your Starter Code\n",
    "The theme of this project is a popular treasure hunt game in which the player needs to find the treasure before the pirate does. While you will not be developing the entire game, you will write the part of the game that represents the intelligent agent, which is a pirate in this case. The pirate will try to find the optimal path to the treasure using deep Q-learning. \n",
    "\n",
    "You have been provided with two Python classes and this notebook to help you with this assignment. The first class, TreasureMaze.py, represents the environment, which includes a maze object defined as a matrix. The second class, GameExperience.py, stores the episodes – that is, all the states that come in between the initial state and the terminal state. This is later used by the agent for learning by experience, called \"exploration\". This notebook shows how to play a game. Your task is to complete the deep Q-learning implementation for which a skeleton implementation has been provided. The code blocks you will need to complete has #TODO as a header.\n",
    "\n",
    "First, read and review the next few code and instruction blocks to understand the code that you have been given."
   ]
  },
  {
   "cell_type": "code",
   "execution_count": 1,
   "metadata": {},
   "outputs": [
    {
     "name": "stdout",
     "output_type": "stream",
     "text": [
      "Requirement already satisfied: numpy==1.26.4 in /home/codio/.pyenv/versions/3.11.2/lib/python3.11/site-packages (from -r requirements.txt (line 1)) (1.26.4)\n",
      "Requirement already satisfied: keras in /home/codio/.pyenv/versions/3.11.2/lib/python3.11/site-packages (from -r requirements.txt (line 2)) (3.11.3)\n",
      "Requirement already satisfied: tensorflow==2.19.0 in /home/codio/.pyenv/versions/3.11.2/lib/python3.11/site-packages (from -r requirements.txt (line 3)) (2.19.0)\n",
      "Requirement already satisfied: absl-py>=1.0.0 in /home/codio/.pyenv/versions/3.11.2/lib/python3.11/site-packages (from tensorflow==2.19.0->-r requirements.txt (line 3)) (2.3.1)\n",
      "Requirement already satisfied: astunparse>=1.6.0 in /home/codio/.pyenv/versions/3.11.2/lib/python3.11/site-packages (from tensorflow==2.19.0->-r requirements.txt (line 3)) (1.6.3)\n",
      "Requirement already satisfied: flatbuffers>=24.3.25 in /home/codio/.pyenv/versions/3.11.2/lib/python3.11/site-packages (from tensorflow==2.19.0->-r requirements.txt (line 3)) (25.9.23)\n",
      "Requirement already satisfied: gast!=0.5.0,!=0.5.1,!=0.5.2,>=0.2.1 in /home/codio/.pyenv/versions/3.11.2/lib/python3.11/site-packages (from tensorflow==2.19.0->-r requirements.txt (line 3)) (0.6.0)\n",
      "Requirement already satisfied: google-pasta>=0.1.1 in /home/codio/.pyenv/versions/3.11.2/lib/python3.11/site-packages (from tensorflow==2.19.0->-r requirements.txt (line 3)) (0.2.0)\n",
      "Requirement already satisfied: libclang>=13.0.0 in /home/codio/.pyenv/versions/3.11.2/lib/python3.11/site-packages (from tensorflow==2.19.0->-r requirements.txt (line 3)) (18.1.1)\n",
      "Requirement already satisfied: opt-einsum>=2.3.2 in /home/codio/.pyenv/versions/3.11.2/lib/python3.11/site-packages (from tensorflow==2.19.0->-r requirements.txt (line 3)) (3.4.0)\n",
      "Requirement already satisfied: packaging in /home/codio/.pyenv/versions/3.11.2/lib/python3.11/site-packages (from tensorflow==2.19.0->-r requirements.txt (line 3)) (23.0)\n",
      "Requirement already satisfied: protobuf!=4.21.0,!=4.21.1,!=4.21.2,!=4.21.3,!=4.21.4,!=4.21.5,<6.0.0dev,>=3.20.3 in /home/codio/.pyenv/versions/3.11.2/lib/python3.11/site-packages (from tensorflow==2.19.0->-r requirements.txt (line 3)) (5.29.5)\n",
      "Requirement already satisfied: requests<3,>=2.21.0 in /home/codio/.pyenv/versions/3.11.2/lib/python3.11/site-packages (from tensorflow==2.19.0->-r requirements.txt (line 3)) (2.30.0)\n",
      "Requirement already satisfied: setuptools in /home/codio/.pyenv/versions/3.11.2/lib/python3.11/site-packages (from tensorflow==2.19.0->-r requirements.txt (line 3)) (65.5.0)\n",
      "Requirement already satisfied: six>=1.12.0 in /home/codio/.pyenv/versions/3.11.2/lib/python3.11/site-packages (from tensorflow==2.19.0->-r requirements.txt (line 3)) (1.16.0)\n",
      "Requirement already satisfied: termcolor>=1.1.0 in /home/codio/.pyenv/versions/3.11.2/lib/python3.11/site-packages (from tensorflow==2.19.0->-r requirements.txt (line 3)) (3.1.0)\n",
      "Requirement already satisfied: typing-extensions>=3.6.6 in /home/codio/.pyenv/versions/3.11.2/lib/python3.11/site-packages (from tensorflow==2.19.0->-r requirements.txt (line 3)) (4.15.0)\n",
      "Requirement already satisfied: wrapt>=1.11.0 in /home/codio/.pyenv/versions/3.11.2/lib/python3.11/site-packages (from tensorflow==2.19.0->-r requirements.txt (line 3)) (1.17.3)\n",
      "Requirement already satisfied: grpcio<2.0,>=1.24.3 in /home/codio/.pyenv/versions/3.11.2/lib/python3.11/site-packages (from tensorflow==2.19.0->-r requirements.txt (line 3)) (1.75.1)\n",
      "Requirement already satisfied: tensorboard~=2.19.0 in /home/codio/.pyenv/versions/3.11.2/lib/python3.11/site-packages (from tensorflow==2.19.0->-r requirements.txt (line 3)) (2.19.0)\n",
      "Requirement already satisfied: h5py>=3.11.0 in /home/codio/.pyenv/versions/3.11.2/lib/python3.11/site-packages (from tensorflow==2.19.0->-r requirements.txt (line 3)) (3.14.0)\n",
      "Requirement already satisfied: ml-dtypes<1.0.0,>=0.5.1 in /home/codio/.pyenv/versions/3.11.2/lib/python3.11/site-packages (from tensorflow==2.19.0->-r requirements.txt (line 3)) (0.5.3)\n",
      "Requirement already satisfied: tensorflow-io-gcs-filesystem>=0.23.1 in /home/codio/.pyenv/versions/3.11.2/lib/python3.11/site-packages (from tensorflow==2.19.0->-r requirements.txt (line 3)) (0.37.1)\n",
      "Requirement already satisfied: rich in /home/codio/.pyenv/versions/3.11.2/lib/python3.11/site-packages (from keras->-r requirements.txt (line 2)) (14.2.0)\n",
      "Requirement already satisfied: namex in /home/codio/.pyenv/versions/3.11.2/lib/python3.11/site-packages (from keras->-r requirements.txt (line 2)) (0.1.0)\n",
      "Requirement already satisfied: optree in /home/codio/.pyenv/versions/3.11.2/lib/python3.11/site-packages (from keras->-r requirements.txt (line 2)) (0.17.0)\n",
      "Requirement already satisfied: wheel<1.0,>=0.23.0 in /home/codio/.pyenv/versions/3.11.2/lib/python3.11/site-packages (from astunparse>=1.6.0->tensorflow==2.19.0->-r requirements.txt (line 3)) (0.45.1)\n",
      "Requirement already satisfied: charset-normalizer<4,>=2 in /home/codio/.pyenv/versions/3.11.2/lib/python3.11/site-packages (from requests<3,>=2.21.0->tensorflow==2.19.0->-r requirements.txt (line 3)) (2.1.1)\n",
      "Requirement already satisfied: idna<4,>=2.5 in /home/codio/.pyenv/versions/3.11.2/lib/python3.11/site-packages (from requests<3,>=2.21.0->tensorflow==2.19.0->-r requirements.txt (line 3)) (3.4)\n",
      "Requirement already satisfied: urllib3<3,>=1.21.1 in /home/codio/.pyenv/versions/3.11.2/lib/python3.11/site-packages (from requests<3,>=2.21.0->tensorflow==2.19.0->-r requirements.txt (line 3)) (2.0.2)\n",
      "Requirement already satisfied: certifi>=2017.4.17 in /home/codio/.pyenv/versions/3.11.2/lib/python3.11/site-packages (from requests<3,>=2.21.0->tensorflow==2.19.0->-r requirements.txt (line 3)) (2023.5.7)\n",
      "Requirement already satisfied: markdown>=2.6.8 in /home/codio/.pyenv/versions/3.11.2/lib/python3.11/site-packages (from tensorboard~=2.19.0->tensorflow==2.19.0->-r requirements.txt (line 3)) (3.9)\n",
      "Requirement already satisfied: tensorboard-data-server<0.8.0,>=0.7.0 in /home/codio/.pyenv/versions/3.11.2/lib/python3.11/site-packages (from tensorboard~=2.19.0->tensorflow==2.19.0->-r requirements.txt (line 3)) (0.7.2)\n",
      "Requirement already satisfied: werkzeug>=1.0.1 in /home/codio/.pyenv/versions/3.11.2/lib/python3.11/site-packages (from tensorboard~=2.19.0->tensorflow==2.19.0->-r requirements.txt (line 3)) (2.0.0)\n",
      "Requirement already satisfied: markdown-it-py>=2.2.0 in /home/codio/.pyenv/versions/3.11.2/lib/python3.11/site-packages (from rich->keras->-r requirements.txt (line 2)) (4.0.0)\n",
      "Requirement already satisfied: pygments<3.0.0,>=2.13.0 in /home/codio/.pyenv/versions/3.11.2/lib/python3.11/site-packages (from rich->keras->-r requirements.txt (line 2)) (2.15.1)\n",
      "Requirement already satisfied: mdurl~=0.1 in /home/codio/.pyenv/versions/3.11.2/lib/python3.11/site-packages (from markdown-it-py>=2.2.0->rich->keras->-r requirements.txt (line 2)) (0.1.2)\n",
      "\n",
      "\u001b[1m[\u001b[0m\u001b[34;49mnotice\u001b[0m\u001b[1;39;49m]\u001b[0m\u001b[39;49m A new release of pip is available: \u001b[0m\u001b[31;49m23.1.2\u001b[0m\u001b[39;49m -> \u001b[0m\u001b[32;49m25.2\u001b[0m\n",
      "\u001b[1m[\u001b[0m\u001b[34;49mnotice\u001b[0m\u001b[1;39;49m]\u001b[0m\u001b[39;49m To update, run: \u001b[0m\u001b[32;49mpip install --upgrade pip\u001b[0m\n"
     ]
    }
   ],
   "source": [
    "!pip install -r requirements.txt"
   ]
  },
  {
   "cell_type": "code",
   "execution_count": 2,
   "metadata": {},
   "outputs": [
    {
     "name": "stderr",
     "output_type": "stream",
     "text": [
      "2025-10-22 20:24:17.893525: I tensorflow/core/util/port.cc:153] oneDNN custom operations are on. You may see slightly different numerical results due to floating-point round-off errors from different computation orders. To turn them off, set the environment variable `TF_ENABLE_ONEDNN_OPTS=0`.\n",
      "2025-10-22 20:24:17.894565: I external/local_xla/xla/tsl/cuda/cudart_stub.cc:32] Could not find cuda drivers on your machine, GPU will not be used.\n",
      "2025-10-22 20:24:17.899574: I external/local_xla/xla/tsl/cuda/cudart_stub.cc:32] Could not find cuda drivers on your machine, GPU will not be used.\n",
      "2025-10-22 20:24:17.912404: E external/local_xla/xla/stream_executor/cuda/cuda_fft.cc:467] Unable to register cuFFT factory: Attempting to register factory for plugin cuFFT when one has already been registered\n",
      "WARNING: All log messages before absl::InitializeLog() is called are written to STDERR\n",
      "E0000 00:00:1761164657.933697     431 cuda_dnn.cc:8579] Unable to register cuDNN factory: Attempting to register factory for plugin cuDNN when one has already been registered\n",
      "E0000 00:00:1761164657.940162     431 cuda_blas.cc:1407] Unable to register cuBLAS factory: Attempting to register factory for plugin cuBLAS when one has already been registered\n",
      "W0000 00:00:1761164657.957030     431 computation_placer.cc:177] computation placer already registered. Please check linkage and avoid linking the same target more than once.\n",
      "W0000 00:00:1761164657.957057     431 computation_placer.cc:177] computation placer already registered. Please check linkage and avoid linking the same target more than once.\n",
      "W0000 00:00:1761164657.957059     431 computation_placer.cc:177] computation placer already registered. Please check linkage and avoid linking the same target more than once.\n",
      "W0000 00:00:1761164657.957062     431 computation_placer.cc:177] computation placer already registered. Please check linkage and avoid linking the same target more than once.\n",
      "2025-10-22 20:24:17.962919: I tensorflow/core/platform/cpu_feature_guard.cc:210] This TensorFlow binary is optimized to use available CPU instructions in performance-critical operations.\n",
      "To enable the following instructions: AVX2 AVX512F AVX512_VNNI FMA, in other operations, rebuild TensorFlow with the appropriate compiler flags.\n"
     ]
    }
   ],
   "source": [
    "from __future__ import print_function\n",
    "import os, sys, time, datetime, json, random\n",
    "import numpy as np\n",
    "import tensorflow as tf\n",
    "from tensorflow.keras.models import clone_model\n",
    "\n",
    "from keras.models import Sequential\n",
    "from keras.layers import Dense, Activation, PReLU\n",
    "from keras.optimizers import SGD , Adam, RMSprop\n",
    "import matplotlib.pyplot as plt\n",
    "from TreasureMaze import TreasureMaze\n",
    "from GameExperience import GameExperience\n",
    "%matplotlib inline\n",
    "\n",
    "os.environ['TF_CPP_MIN_LOG_LEVEL'] = '2' # suppress TensorFlog Logging\n",
    "tf.get_logger().setLevel('ERROR')\n",
    "\n",
    "tf.keras.utils.disable_interactive_logging()\n",
    "\n",
    "## Ignore the warnings below\n"
   ]
  },
  {
   "cell_type": "code",
   "execution_count": 3,
   "metadata": {},
   "outputs": [],
   "source": [
    "def bulid_model(maze, num_actions):\n",
    "    \"\"\"\n",
    "    Build a simple DQN model.\n",
    "        - input: flattened maze state of length maze.size\n",
    "        - output: Q-values for each action (num_actions)\n",
    "    \"\"\"\n",
    "    model = Sequential()\n",
    "    #input Layer: one neuron per maze cell\n",
    "    model.add(Dense(maze.size, input_shape=(maze.size,)))\n",
    "    model.add(PReLU())\n",
    "    \n",
    "    #Hidden Layer\n",
    "    model.add(Dense(maze.size))\n",
    "    model.add(PReLU())\n",
    "    \n",
    "    # Output layer: one neuron per action\n",
    "    model.add(Dense(num_actions))\n",
    "    \n",
    "    #compile with Adam optimizer and MSE loss\n",
    "    model.compile(optimize='adam', loss='mse')\n",
    "    return model"
   ]
  },
  {
   "cell_type": "markdown",
   "metadata": {},
   "source": [
    "The following code block contains an 8x8 matrix that will be used as a maze object:"
   ]
  },
  {
   "cell_type": "code",
   "execution_count": 4,
   "metadata": {},
   "outputs": [],
   "source": [
    "maze = np.array([\n",
    "    [ 1.,  0.,  1.,  1.,  1.,  1.,  1.,  1.],\n",
    "    [ 1.,  0.,  1.,  1.,  1.,  0.,  1.,  1.],\n",
    "    [ 1.,  1.,  1.,  1.,  0.,  1.,  0.,  1.],\n",
    "    [ 1.,  1.,  1.,  0.,  1.,  1.,  1.,  1.],\n",
    "    [ 1.,  1.,  0.,  1.,  1.,  1.,  1.,  1.],\n",
    "    [ 1.,  1.,  1.,  0.,  1.,  0.,  0.,  0.],\n",
    "    [ 1.,  1.,  1.,  0.,  1.,  1.,  1.,  1.],\n",
    "    [ 1.,  1.,  1.,  1.,  0.,  1.,  1.,  1.]\n",
    "])"
   ]
  },
  {
   "cell_type": "markdown",
   "metadata": {},
   "source": [
    "This helper function allows a visual representation of the maze object:"
   ]
  },
  {
   "cell_type": "code",
   "execution_count": 5,
   "metadata": {},
   "outputs": [],
   "source": [
    "def show(qmaze):\n",
    "    plt.grid('on')\n",
    "    nrows, ncols = qmaze.maze.shape\n",
    "    ax = plt.gca()\n",
    "    ax.set_xticks(np.arange(0.5, nrows, 1))\n",
    "    ax.set_yticks(np.arange(0.5, ncols, 1))\n",
    "    ax.set_xticklabels([])\n",
    "    ax.set_yticklabels([])\n",
    "    canvas = np.copy(qmaze.maze)\n",
    "    for row,col in qmaze.visited:\n",
    "        canvas[row,col] = 0.6\n",
    "    pirate_row, pirate_col, _ = qmaze.state\n",
    "    canvas[pirate_row, pirate_col] = 0.3   # pirate cell\n",
    "    canvas[nrows-1, ncols-1] = 0.9 # treasure cell\n",
    "    img = plt.imshow(canvas, interpolation='none', cmap='gray')\n",
    "    return img"
   ]
  },
  {
   "cell_type": "markdown",
   "metadata": {},
   "source": [
    "The pirate agent can move in four directions: left, right, up, and down. \n",
    "\n",
    "While the agent primarily learns by experience through exploitation, often, the agent can choose to explore the environment to find previously undiscovered paths. This is called \"exploration\" and is defined by epsilon. This value is typically a lower value such as 0.1, which means for every ten attempts, the agent will attempt to learn by experience nine times and will randomly explore a new path one time. You are encouraged to try various values for the exploration factor and see how the algorithm performs."
   ]
  },
  {
   "cell_type": "code",
   "execution_count": 6,
   "metadata": {},
   "outputs": [],
   "source": [
    "LEFT = 0\n",
    "UP = 1\n",
    "RIGHT = 2\n",
    "DOWN = 3\n",
    "\n",
    "\n",
    "# Exploration factor\n",
    "epsilon = 0.1\n",
    "\n",
    "epsilon_min = 0.05\n",
    "epsilon_decay = 0.995\n",
    "patience = 10\n",
    "\n",
    "\n",
    "# Actions dictionary\n",
    "actions_dict = {\n",
    "    LEFT: 'left',\n",
    "    UP: 'up',\n",
    "    RIGHT: 'right',\n",
    "    DOWN: 'down',\n",
    "}\n",
    "\n",
    "num_actions = len(actions_dict)\n"
   ]
  },
  {
   "cell_type": "markdown",
   "metadata": {},
   "source": [
    "The sample code block and output below show creating a maze object and performing one action (DOWN), which returns the reward. The resulting updated environment is visualized."
   ]
  },
  {
   "cell_type": "code",
   "execution_count": 7,
   "metadata": {},
   "outputs": [
    {
     "name": "stdout",
     "output_type": "stream",
     "text": [
      "reward= -0.04\n"
     ]
    },
    {
     "data": {
      "text/plain": [
       "<matplotlib.image.AxesImage at 0x7857265cf290>"
      ]
     },
     "execution_count": 7,
     "metadata": {},
     "output_type": "execute_result"
    },
    {
     "data": {
      "image/png": "[encoded data removed]",
      "text/plain": [
       "<Figure size 640x480 with 1 Axes>"
      ]
     },
     "metadata": {},
     "output_type": "display_data"
    }
   ],
   "source": [
    "qmaze = TreasureMaze(maze)\n",
    "canvas, reward, game_over = qmaze.act(DOWN)\n",
    "print(\"reward=\", reward)\n",
    "show(qmaze)"
   ]
  },
  {
   "cell_type": "markdown",
   "metadata": {},
   "source": [
    "This function simulates a full game based on the provided trained model. The other parameters include the TreasureMaze object and the starting position of the pirate."
   ]
  },
  {
   "cell_type": "code",
   "execution_count": 8,
   "metadata": {},
   "outputs": [],
   "source": [
    "def play_game(model, qmaze, pirate_cell,max_steps = None):\n",
    "    qmaze.reset(pirate_cell)\n",
    "    envstate = qmaze.observe()\n",
    "    steps = 0\n",
    "    if max_steps is None:\n",
    "        max_steps = qmaze.maze.size * 4 # safety cutoff \n",
    "        \n",
    "    #while True:\n",
    "    while steps < max_steps:\n",
    "        state = np.asarray(envstate, dtype=np.float32)\n",
    "        if state.ndim == 1:\n",
    "            state = np.expand_dims(state, axis = 0)\n",
    "            \n",
    "        q_values = model(state,training=False).numpy()\n",
    "        action = np.argmax(q_values[0])\n",
    "        \n",
    "        \n",
    "        #prev_envstate = envstate\n",
    "        # get next action\n",
    "        #q = model.predict(prev_envstate)\n",
    "        #action = np.argmax(q[0])\n",
    "\n",
    "        # apply action, get rewards and new state\n",
    "        envstate, reward, game_status = qmaze.act(action)\n",
    "        steps += 1\n",
    "        \n",
    "        if game_status == 'win':\n",
    "            return True\n",
    "        elif game_status == 'lose':\n",
    "            return False\n",
    "        \n",
    "    return False # timed out with no results"
   ]
  },
  {
   "cell_type": "markdown",
   "metadata": {},
   "source": [
    "This function helps you to determine whether the pirate can win any game at all. If your maze is not well designed, the pirate may not win any game at all. In this case, your training would not yield any result. The provided maze in this notebook ensures that there is a path to win and you can run this method to check."
   ]
  },
  {
   "cell_type": "code",
   "execution_count": 9,
   "metadata": {},
   "outputs": [],
   "source": [
    "def completion_check(model, maze_or_qmaze, max_steps=None):\n",
    "    # Accept either raw numpy maze or TreasureMaze instance\n",
    "\n",
    "    if isinstance(maze_or_qmaze, TreasureMaze):\n",
    "        qmaze = maze_or_qmaze\n",
    "    else:\n",
    "        qmaze = TreasureMaze(maze_or_qmaze)\n",
    "    \n",
    "    for cell in qmaze.free_cells:\n",
    "        if not qmaze.valid_actions(cell):\n",
    "            continue\n",
    "        if not play_game(model, qmaze, cell, max_steps=max_steps):\n",
    "            return False\n",
    "        \n",
    "    return True"
   ]
  },
  {
   "cell_type": "markdown",
   "metadata": {},
   "source": [
    "The code you have been given in this block will build the neural network model. Review the code and note the number of layers, as well as the activation, optimizer, and loss functions that are used to train the model."
   ]
  },
  {
   "cell_type": "code",
   "execution_count": 10,
   "metadata": {},
   "outputs": [],
   "source": [
    "def build_model(maze):\n",
    "    model = Sequential()\n",
    "    model.add(Dense(maze.size, input_shape=(maze.size,)))\n",
    "    model.add(PReLU())\n",
    "    model.add(Dense(maze.size))\n",
    "    model.add(PReLU())\n",
    "    model.add(Dense(num_actions))\n",
    "    model.compile(optimizer='adam', loss='mse')\n",
    "    return model"
   ]
  },
  {
   "cell_type": "code",
   "execution_count": 11,
   "metadata": {},
   "outputs": [
    {
     "name": "stderr",
     "output_type": "stream",
     "text": [
      "E0000 00:00:1761164662.119628     431 cuda_executor.cc:1228] INTERNAL: CUDA Runtime error: Failed call to cudaGetRuntimeVersion: Error loading CUDA libraries. GPU will not be used.: Error loading CUDA libraries. GPU will not be used.\n",
      "W0000 00:00:1761164662.125497     431 gpu_device.cc:2341] Cannot dlopen some GPU libraries. Please make sure the missing libraries mentioned above are installed properly if you would like to use GPU. Follow the guide at https://www.tensorflow.org/install/gpu for how to download and setup the required libraries for your platform.\n",
      "Skipping registering GPU devices...\n"
     ]
    }
   ],
   "source": [
    "tf.config.run_functions_eagerly(True)\n",
    "\n",
    "loss_fn = tf.keras.losses.MeanSquaredError()\n",
    "optimizer = tf.keras.optimizers.Adam()\n",
    "\n",
    "@tf.function\n",
    "def train_steps(x,y, model):\n",
    "    x = tf.reshape(x, (tf.shape(x)[0], -1))\n",
    "    with tf.GradientTape() as tape:\n",
    "        q_values = model(x,training=True)\n",
    "        loss = tf.keras.losses.MSE(y, q_values)\n",
    "    grads = tape.gradient(loss, model.trainable_variables)\n",
    "    optimizer.apply_gradients(zip(grads, model.trainable_variables))\n",
    "    return loss"
   ]
  },
  {
   "cell_type": "markdown",
   "metadata": {},
   "source": [
    "# #TODO: Complete the Q-Training Algorithm Code Block\n",
    "\n",
    "This is your deep Q-learning implementation. The goal of your deep Q-learning implementation is to find the best possible navigation sequence that results in reaching the treasure cell while maximizing the reward. In your implementation, you need to determine the optimal number of epochs to achieve a 100% win rate.\n",
    "\n",
    "You will need to complete the section starting with #pseudocode. The pseudocode has been included for you."
   ]
  },
  {
   "cell_type": "code",
   "execution_count": 12,
   "metadata": {},
   "outputs": [],
   "source": [
    "def qtrain(model, maze, **opt):\n",
    "\n",
    "    # exploration factor\n",
    "    global epsilon \n",
    "\n",
    "    # number of epochs\n",
    "    n_epoch = opt.get('n_epoch', 15000)\n",
    "\n",
    "    # maximum memory to store episodes\n",
    "    max_memory = opt.get('max_memory', 1000)\n",
    "\n",
    "    # maximum data size for training\n",
    "    data_size = opt.get('data_size', 50)\n",
    "    \n",
    "    # Frequency of target network updates\n",
    "    target_update_freq = opt.get('target_update_freq', 50)\n",
    "    epsilon_min = opt.get('epsilon_min', 0.05)\n",
    "    epsilon_deay = opt.get('epsilon_decay', 0.995)\n",
    "\n",
    "    # start time\n",
    "    start_time = datetime.datetime.now()\n",
    "\n",
    "    # Construct environment/game from numpy array: maze (see above)\n",
    "    qmaze = TreasureMaze(maze)\n",
    "    \n",
    "    # Target Network to better guide training\n",
    "    target_model = clone_model(model)\n",
    "    target_model.set_weights(model.get_weights())\n",
    "    \n",
    "\n",
    "    # Initialize experience replay object\n",
    "    experience = GameExperience(model, target_model, max_memory=max_memory)\n",
    "    \n",
    "    win_history = []   # history of win/lose game\n",
    "    hsize = qmaze.maze.size//2   # history window size\n",
    "    n_episodes = 0\n",
    "    \n",
    "    # pseudocode:\n",
    "    # For each epoch:\n",
    "    for epoch in range(n_epoch):\n",
    "        loss = 0.0\n",
    "        \n",
    "        #    Agent_cell = randomly select a free cell\n",
    "        pirate_cell = random.choice(qmaze.free_cells)\n",
    "        \n",
    "        #    Reset the maze with agent set to above position\n",
    "        qmaze.reset(pirate_cell)\n",
    "        \n",
    "        \n",
    "        #envstate = Environment.current_state\n",
    "        env_state = qmaze.observe()\n",
    "                \n",
    "        game_status = 'not_over'\n",
    "        while game_status == 'not_over':\n",
    "            \n",
    "            previous_envstate = env_state\n",
    "\n",
    "            #Action = randomly choose action (left, right, up, down) either by exploration or by exploitation\n",
    "            #if np.random.rand() < epsilon:\n",
    "            if random.random() < epsilon:\n",
    "                action = random.choice(qmaze.valid_actions())\n",
    "            else:\n",
    "                #state = np.asarray(env_state, dtype=np.float32)\n",
    "                state = tf.convert_to_tensor(previous_envstate, dtype=tf.float32)\n",
    "                if state.ndim == 1:\n",
    "                    state = tf.expand_dims(state, axis=0)\n",
    "                \n",
    "                q_values = model(state, training=False).numpy()\n",
    "                action = int(tf.argmax(q_values[0]))\n",
    "                \n",
    "            # Retrieve values from the act() method\n",
    "            env_state, reward, game_status = qmaze.act(action)\n",
    "            \n",
    "            # Track wins and losses\n",
    "            if game_status == 'win':\n",
    "                win_history.append(1)\n",
    "            elif game_status == 'lose':\n",
    "                win_history.append(0)\n",
    "            \n",
    "            # Store episode in Experience replay object\n",
    "            episode = [previous_envstate, action, reward, env_state, game_status]\n",
    "            experience.remember(episode)\n",
    "            \n",
    "            #print(f\"game status: {game_status}, n_episodes: {n_episodes}, loss: {loss}\")\n",
    "        \n",
    "            # Hint: Review the remember method in the GameExperience.py class.\n",
    "            # Hint: Call GameExperience.get_data to retrieve training data (input and target) and pass to model.fit method \n",
    "            # Train neural network model and evaluate loss        \n",
    "            inputs, targets = experience.get_data(data_size=data_size)\n",
    "            batch_loss = train_steps(inputs, targets, model)\n",
    "            loss += float(tf.reduce_mean(batch_loss))\n",
    "            #loss += batch_loss\n",
    "            \n",
    "        n_episodes += 1\n",
    "                                \n",
    "        # Win rate over last hsize steps\n",
    "        win_rate = sum(win_history[-hsize:]) / hsize if len(win_history) >= hsize else 0.0\n",
    "        \n",
    "        #Print the epoch, loss, episodes, win count, and win rate for each epoch\n",
    "        dt = datetime.datetime.now() - start_time\n",
    "        t = format_time(dt.total_seconds())\n",
    "        print(\"Epoch: {:03d}/{:d} | Loss: {:.4f} | Episodes: {:d} | Win count: {:d} | Win rate: {:.3f} | time: {}\".format(\n",
    "            epoch, n_epoch-1, loss, n_episodes, sum(win_history), win_rate, t))\n",
    "        \n",
    "        # Update target network\n",
    "        if epoch % target_update_freq == 0:\n",
    "            target_model.set_weights(model.get_weights())\n",
    "\n",
    "            \n",
    "        # We simply check if training has exhausted all free cells and if in all\n",
    "        # cases the agent won.\n",
    "        if win_rate > 0.9: \n",
    "            epsilon = 0.05\n",
    "        else:\n",
    "            epsilon = max(epsilon * epsilon_decay, epsilon_min)\n",
    "            \n",
    "        if win_rate >= 0.999 and completion_check(model, maze): \n",
    "            print(\"Reached 100%% win rate at epoch: %d\" % (epoch,))\n",
    "            break\n",
    "    \n",
    "\n",
    "    total_time = format_time((datetime.datetime.now() - start_time).total_seconds())\n",
    "    print(\"Training Complete in:\", total_time) \n",
    "\n",
    "# This is a small utility for printing readable time strings:\n",
    "def format_time(seconds):\n",
    "    if seconds < 400:\n",
    "        s = float(seconds)\n",
    "        return \"%.1f seconds\" % (s,)\n",
    "    elif seconds < 4000:\n",
    "        m = seconds / 60.0\n",
    "        return \"%.2f minutes\" % (m,)\n",
    "    else:\n",
    "        h = seconds / 3600.0\n",
    "        return \"%.2f hours\" % (h,)"
   ]
  },
  {
   "cell_type": "markdown",
   "metadata": {},
   "source": [
    "## Test Your Model\n",
    "\n",
    "Now we will start testing the deep Q-learning implementation. To begin, select **Cell**, then **Run All** from the menu bar. This will run your notebook. As it runs, you should see output begin to appear beneath the next few cells. The code below creates an instance of TreasureMaze."
   ]
  },
  {
   "cell_type": "code",
   "execution_count": 13,
   "metadata": {},
   "outputs": [
    {
     "data": {
      "text/plain": [
       "<matplotlib.image.AxesImage at 0x7857263bf290>"
      ]
     },
     "execution_count": 13,
     "metadata": {},
     "output_type": "execute_result"
    },
    {
     "data": {
      "image/png": "[encoded data removed]",
      "text/plain": [
       "<Figure size 640x480 with 1 Axes>"
      ]
     },
     "metadata": {},
     "output_type": "display_data"
    }
   ],
   "source": [
    "qmaze = TreasureMaze(maze)\n",
    "show(qmaze)"
   ]
  },
  {
   "cell_type": "markdown",
   "metadata": {},
   "source": [
    "In the next code block, you will build your model and train it using deep Q-learning. Note: This step takes several minutes to fully run."
   ]
  },
  {
   "cell_type": "code",
   "execution_count": 14,
   "metadata": {},
   "outputs": [
    {
     "name": "stderr",
     "output_type": "stream",
     "text": [
      "/home/codio/.pyenv/versions/3.11.2/lib/python3.11/site-packages/keras/src/layers/core/dense.py:92: UserWarning: Do not pass an `input_shape`/`input_dim` argument to a layer. When using Sequential models, prefer using an `Input(shape)` object as the first layer in the model instead.\n",
      "  super().__init__(activity_regularizer=activity_regularizer, **kwargs)\n"
     ]
    },
    {
     "name": "stdout",
     "output_type": "stream",
     "text": [
      "Epoch: 000/999 | Loss: 0.2230 | Episodes: 1 | Win count: 0 | Win rate: 0.000 | time: 50.7 seconds\n",
      "Epoch: 001/999 | Loss: 0.1831 | Episodes: 2 | Win count: 1 | Win rate: 0.000 | time: 80.0 seconds\n",
      "Epoch: 002/999 | Loss: 0.2955 | Episodes: 3 | Win count: 2 | Win rate: 0.000 | time: 104.5 seconds\n",
      "Epoch: 003/999 | Loss: 0.7665 | Episodes: 4 | Win count: 2 | Win rate: 0.000 | time: 159.2 seconds\n",
      "Epoch: 004/999 | Loss: 0.6263 | Episodes: 5 | Win count: 2 | Win rate: 0.000 | time: 214.8 seconds\n",
      "Epoch: 005/999 | Loss: 0.7676 | Episodes: 6 | Win count: 2 | Win rate: 0.000 | time: 270.0 seconds\n",
      "Epoch: 006/999 | Loss: 0.3407 | Episodes: 7 | Win count: 3 | Win rate: 0.000 | time: 326.8 seconds\n",
      "Epoch: 007/999 | Loss: 0.2816 | Episodes: 8 | Win count: 4 | Win rate: 0.000 | time: 355.5 seconds\n",
      "Epoch: 008/999 | Loss: 0.6540 | Episodes: 9 | Win count: 4 | Win rate: 0.000 | time: 6.85 minutes\n",
      "Epoch: 009/999 | Loss: 0.8260 | Episodes: 10 | Win count: 4 | Win rate: 0.000 | time: 7.87 minutes\n",
      "Epoch: 010/999 | Loss: 0.0375 | Episodes: 11 | Win count: 5 | Win rate: 0.000 | time: 7.92 minutes\n",
      "Epoch: 011/999 | Loss: 0.3182 | Episodes: 12 | Win count: 6 | Win rate: 0.000 | time: 8.28 minutes\n",
      "Epoch: 012/999 | Loss: 0.0046 | Episodes: 13 | Win count: 7 | Win rate: 0.000 | time: 8.30 minutes\n",
      "Epoch: 013/999 | Loss: 0.2651 | Episodes: 14 | Win count: 8 | Win rate: 0.000 | time: 8.53 minutes\n",
      "Epoch: 014/999 | Loss: 0.0875 | Episodes: 15 | Win count: 9 | Win rate: 0.000 | time: 8.62 minutes\n",
      "Epoch: 015/999 | Loss: 1.1604 | Episodes: 16 | Win count: 10 | Win rate: 0.000 | time: 9.41 minutes\n",
      "Epoch: 016/999 | Loss: 0.3489 | Episodes: 17 | Win count: 11 | Win rate: 0.000 | time: 9.82 minutes\n",
      "Epoch: 017/999 | Loss: 0.1705 | Episodes: 18 | Win count: 12 | Win rate: 0.000 | time: 9.98 minutes\n",
      "Epoch: 018/999 | Loss: 0.7547 | Episodes: 19 | Win count: 12 | Win rate: 0.000 | time: 10.87 minutes\n",
      "Epoch: 019/999 | Loss: 0.5553 | Episodes: 20 | Win count: 12 | Win rate: 0.000 | time: 11.81 minutes\n",
      "Epoch: 020/999 | Loss: 0.0314 | Episodes: 21 | Win count: 13 | Win rate: 0.000 | time: 11.92 minutes\n",
      "Epoch: 021/999 | Loss: 0.1561 | Episodes: 22 | Win count: 14 | Win rate: 0.000 | time: 12.46 minutes\n",
      "Epoch: 022/999 | Loss: 0.0430 | Episodes: 23 | Win count: 15 | Win rate: 0.000 | time: 12.56 minutes\n",
      "Epoch: 023/999 | Loss: 0.0573 | Episodes: 24 | Win count: 16 | Win rate: 0.000 | time: 12.74 minutes\n",
      "Epoch: 024/999 | Loss: 0.2429 | Episodes: 25 | Win count: 17 | Win rate: 0.000 | time: 13.35 minutes\n",
      "Epoch: 025/999 | Loss: 0.0635 | Episodes: 26 | Win count: 18 | Win rate: 0.000 | time: 13.56 minutes\n",
      "Epoch: 026/999 | Loss: 0.1336 | Episodes: 27 | Win count: 19 | Win rate: 0.000 | time: 13.84 minutes\n",
      "Epoch: 027/999 | Loss: 0.2252 | Episodes: 28 | Win count: 20 | Win rate: 0.000 | time: 14.33 minutes\n",
      "Epoch: 028/999 | Loss: 0.2803 | Episodes: 29 | Win count: 21 | Win rate: 0.000 | time: 15.12 minutes\n",
      "Epoch: 029/999 | Loss: 0.1102 | Episodes: 30 | Win count: 22 | Win rate: 0.000 | time: 15.46 minutes\n",
      "Epoch: 030/999 | Loss: 0.0500 | Episodes: 31 | Win count: 23 | Win rate: 0.000 | time: 15.60 minutes\n",
      "Epoch: 031/999 | Loss: 0.1746 | Episodes: 32 | Win count: 24 | Win rate: 0.750 | time: 16.10 minutes\n",
      "Epoch: 032/999 | Loss: 0.0173 | Episodes: 33 | Win count: 25 | Win rate: 0.781 | time: 16.16 minutes\n",
      "Epoch: 033/999 | Loss: 0.1734 | Episodes: 34 | Win count: 26 | Win rate: 0.781 | time: 16.66 minutes\n",
      "Epoch: 034/999 | Loss: 0.1313 | Episodes: 35 | Win count: 27 | Win rate: 0.781 | time: 17.03 minutes\n",
      "Epoch: 035/999 | Loss: 0.1329 | Episodes: 36 | Win count: 28 | Win rate: 0.812 | time: 17.46 minutes\n",
      "Epoch: 036/999 | Loss: 0.0761 | Episodes: 37 | Win count: 29 | Win rate: 0.844 | time: 17.70 minutes\n",
      "Epoch: 037/999 | Loss: 0.0607 | Episodes: 38 | Win count: 30 | Win rate: 0.875 | time: 17.89 minutes\n",
      "Epoch: 038/999 | Loss: 0.0404 | Episodes: 39 | Win count: 31 | Win rate: 0.875 | time: 18.03 minutes\n",
      "Epoch: 039/999 | Loss: 0.0267 | Episodes: 40 | Win count: 32 | Win rate: 0.875 | time: 18.11 minutes\n",
      "Epoch: 040/999 | Loss: 0.0138 | Episodes: 41 | Win count: 33 | Win rate: 0.906 | time: 18.14 minutes\n",
      "Epoch: 041/999 | Loss: 0.1084 | Episodes: 42 | Win count: 34 | Win rate: 0.938 | time: 18.43 minutes\n",
      "Epoch: 042/999 | Loss: 0.1855 | Episodes: 43 | Win count: 35 | Win rate: 0.938 | time: 19.07 minutes\n",
      "Epoch: 043/999 | Loss: 0.0019 | Episodes: 44 | Win count: 36 | Win rate: 0.938 | time: 19.08 minutes\n",
      "Epoch: 044/999 | Loss: 0.0162 | Episodes: 45 | Win count: 37 | Win rate: 0.938 | time: 19.14 minutes\n",
      "Epoch: 045/999 | Loss: 0.0224 | Episodes: 46 | Win count: 38 | Win rate: 0.938 | time: 19.23 minutes\n",
      "Epoch: 046/999 | Loss: 0.1533 | Episodes: 47 | Win count: 39 | Win rate: 0.938 | time: 19.81 minutes\n",
      "Epoch: 047/999 | Loss: 0.1783 | Episodes: 48 | Win count: 39 | Win rate: 0.906 | time: 20.64 minutes\n",
      "Epoch: 048/999 | Loss: 0.0271 | Episodes: 49 | Win count: 40 | Win rate: 0.906 | time: 20.77 minutes\n",
      "Epoch: 049/999 | Loss: 0.0625 | Episodes: 50 | Win count: 41 | Win rate: 0.906 | time: 21.05 minutes\n",
      "Epoch: 050/999 | Loss: 0.0177 | Episodes: 51 | Win count: 42 | Win rate: 0.938 | time: 21.14 minutes\n",
      "Epoch: 051/999 | Loss: 1.3209 | Episodes: 52 | Win count: 42 | Win rate: 0.938 | time: 22.02 minutes\n",
      "Epoch: 052/999 | Loss: 0.1628 | Episodes: 53 | Win count: 43 | Win rate: 0.938 | time: 22.21 minutes\n",
      "Epoch: 053/999 | Loss: 0.1634 | Episodes: 54 | Win count: 44 | Win rate: 0.938 | time: 22.37 minutes\n",
      "Epoch: 054/999 | Loss: 0.1473 | Episodes: 55 | Win count: 45 | Win rate: 0.938 | time: 22.55 minutes\n",
      "Epoch: 055/999 | Loss: 0.0922 | Episodes: 56 | Win count: 46 | Win rate: 0.938 | time: 22.68 minutes\n",
      "Epoch: 056/999 | Loss: 0.1348 | Episodes: 57 | Win count: 47 | Win rate: 0.938 | time: 22.87 minutes\n",
      "Epoch: 057/999 | Loss: 0.0857 | Episodes: 58 | Win count: 48 | Win rate: 0.938 | time: 22.99 minutes\n",
      "Epoch: 058/999 | Loss: 0.8184 | Episodes: 59 | Win count: 48 | Win rate: 0.906 | time: 23.96 minutes\n",
      "Epoch: 059/999 | Loss: 0.1376 | Episodes: 60 | Win count: 49 | Win rate: 0.906 | time: 24.14 minutes\n",
      "Epoch: 060/999 | Loss: 0.2878 | Episodes: 61 | Win count: 50 | Win rate: 0.906 | time: 24.51 minutes\n",
      "Epoch: 061/999 | Loss: 0.8062 | Episodes: 62 | Win count: 50 | Win rate: 0.875 | time: 25.50 minutes\n",
      "Epoch: 062/999 | Loss: 0.1570 | Episodes: 63 | Win count: 51 | Win rate: 0.875 | time: 25.76 minutes\n",
      "Epoch: 063/999 | Loss: 0.1913 | Episodes: 64 | Win count: 52 | Win rate: 0.875 | time: 26.13 minutes\n",
      "Epoch: 064/999 | Loss: 0.1356 | Episodes: 65 | Win count: 53 | Win rate: 0.875 | time: 26.33 minutes\n",
      "Epoch: 065/999 | Loss: 0.0417 | Episodes: 66 | Win count: 54 | Win rate: 0.875 | time: 26.44 minutes\n",
      "Epoch: 066/999 | Loss: 0.0915 | Episodes: 67 | Win count: 55 | Win rate: 0.875 | time: 26.75 minutes\n",
      "Epoch: 067/999 | Loss: 0.0130 | Episodes: 68 | Win count: 56 | Win rate: 0.875 | time: 26.81 minutes\n",
      "Epoch: 068/999 | Loss: 0.0142 | Episodes: 69 | Win count: 57 | Win rate: 0.875 | time: 26.86 minutes\n",
      "Epoch: 069/999 | Loss: 0.0259 | Episodes: 70 | Win count: 58 | Win rate: 0.875 | time: 26.95 minutes\n",
      "Epoch: 070/999 | Loss: 0.0268 | Episodes: 71 | Win count: 59 | Win rate: 0.875 | time: 27.05 minutes\n",
      "Epoch: 071/999 | Loss: 0.1579 | Episodes: 72 | Win count: 60 | Win rate: 0.875 | time: 27.36 minutes\n",
      "Epoch: 072/999 | Loss: 0.0746 | Episodes: 73 | Win count: 61 | Win rate: 0.875 | time: 27.49 minutes\n",
      "Epoch: 073/999 | Loss: 0.0827 | Episodes: 74 | Win count: 62 | Win rate: 0.875 | time: 27.69 minutes\n",
      "Epoch: 074/999 | Loss: 0.0591 | Episodes: 75 | Win count: 63 | Win rate: 0.875 | time: 27.81 minutes\n",
      "Epoch: 075/999 | Loss: 0.0055 | Episodes: 76 | Win count: 64 | Win rate: 0.875 | time: 27.83 minutes\n",
      "Epoch: 076/999 | Loss: 0.0656 | Episodes: 77 | Win count: 65 | Win rate: 0.875 | time: 28.04 minutes\n",
      "Epoch: 077/999 | Loss: 0.0804 | Episodes: 78 | Win count: 66 | Win rate: 0.875 | time: 28.21 minutes\n",
      "Epoch: 078/999 | Loss: 0.0585 | Episodes: 79 | Win count: 67 | Win rate: 0.875 | time: 28.37 minutes\n",
      "Epoch: 079/999 | Loss: 0.0126 | Episodes: 80 | Win count: 68 | Win rate: 0.906 | time: 28.42 minutes\n",
      "Epoch: 080/999 | Loss: 0.0061 | Episodes: 81 | Win count: 69 | Win rate: 0.906 | time: 28.44 minutes\n",
      "Epoch: 081/999 | Loss: 0.0024 | Episodes: 82 | Win count: 70 | Win rate: 0.906 | time: 28.45 minutes\n",
      "Epoch: 082/999 | Loss: 0.0318 | Episodes: 83 | Win count: 71 | Win rate: 0.906 | time: 28.55 minutes\n",
      "Epoch: 083/999 | Loss: 0.0571 | Episodes: 84 | Win count: 72 | Win rate: 0.938 | time: 28.74 minutes\n",
      "Epoch: 084/999 | Loss: 0.1999 | Episodes: 85 | Win count: 73 | Win rate: 0.938 | time: 29.46 minutes\n",
      "Epoch: 085/999 | Loss: 0.0395 | Episodes: 86 | Win count: 74 | Win rate: 0.938 | time: 29.60 minutes\n",
      "Epoch: 086/999 | Loss: 0.0297 | Episodes: 87 | Win count: 75 | Win rate: 0.938 | time: 29.65 minutes\n",
      "Epoch: 087/999 | Loss: 0.0344 | Episodes: 88 | Win count: 76 | Win rate: 0.938 | time: 29.72 minutes\n",
      "Epoch: 088/999 | Loss: 0.0387 | Episodes: 89 | Win count: 77 | Win rate: 0.938 | time: 29.85 minutes\n",
      "Epoch: 089/999 | Loss: 0.0922 | Episodes: 90 | Win count: 78 | Win rate: 0.938 | time: 30.14 minutes\n",
      "Epoch: 090/999 | Loss: 0.0592 | Episodes: 91 | Win count: 79 | Win rate: 0.969 | time: 30.38 minutes\n",
      "Epoch: 091/999 | Loss: 0.0026 | Episodes: 92 | Win count: 80 | Win rate: 0.969 | time: 30.39 minutes\n",
      "Epoch: 092/999 | Loss: 0.0491 | Episodes: 93 | Win count: 81 | Win rate: 0.969 | time: 30.61 minutes\n",
      "Epoch: 093/999 | Loss: 0.0326 | Episodes: 94 | Win count: 82 | Win rate: 1.000 | time: 30.76 minutes\n",
      "Epoch: 094/999 | Loss: 0.0386 | Episodes: 95 | Win count: 83 | Win rate: 1.000 | time: 30.90 minutes\n",
      "Epoch: 095/999 | Loss: 0.0339 | Episodes: 96 | Win count: 84 | Win rate: 1.000 | time: 31.07 minutes\n",
      "Epoch: 096/999 | Loss: 0.0081 | Episodes: 97 | Win count: 85 | Win rate: 1.000 | time: 31.13 minutes\n",
      "Epoch: 097/999 | Loss: 0.0317 | Episodes: 98 | Win count: 86 | Win rate: 1.000 | time: 31.32 minutes\n",
      "Epoch: 098/999 | Loss: 0.0550 | Episodes: 99 | Win count: 87 | Win rate: 1.000 | time: 31.45 minutes\n",
      "Epoch: 099/999 | Loss: 0.0681 | Episodes: 100 | Win count: 88 | Win rate: 1.000 | time: 31.72 minutes\n",
      "Epoch: 100/999 | Loss: 0.0183 | Episodes: 101 | Win count: 89 | Win rate: 1.000 | time: 31.80 minutes\n",
      "Epoch: 101/999 | Loss: 0.8061 | Episodes: 102 | Win count: 90 | Win rate: 1.000 | time: 32.16 minutes\n",
      "Epoch: 102/999 | Loss: 0.4375 | Episodes: 103 | Win count: 91 | Win rate: 1.000 | time: 32.67 minutes\n",
      "Epoch: 103/999 | Loss: 0.0986 | Episodes: 104 | Win count: 92 | Win rate: 1.000 | time: 32.93 minutes\n",
      "Epoch: 104/999 | Loss: 0.0294 | Episodes: 105 | Win count: 93 | Win rate: 1.000 | time: 33.04 minutes\n",
      "Epoch: 105/999 | Loss: 0.1225 | Episodes: 106 | Win count: 94 | Win rate: 1.000 | time: 33.35 minutes\n",
      "Epoch: 106/999 | Loss: 0.0332 | Episodes: 107 | Win count: 95 | Win rate: 1.000 | time: 33.45 minutes\n",
      "Epoch: 107/999 | Loss: 0.0022 | Episodes: 108 | Win count: 96 | Win rate: 1.000 | time: 33.47 minutes\n",
      "Epoch: 108/999 | Loss: 0.0016 | Episodes: 109 | Win count: 97 | Win rate: 1.000 | time: 33.49 minutes\n",
      "Epoch: 109/999 | Loss: 0.0051 | Episodes: 110 | Win count: 98 | Win rate: 1.000 | time: 33.52 minutes\n",
      "Epoch: 110/999 | Loss: 0.0192 | Episodes: 111 | Win count: 99 | Win rate: 1.000 | time: 33.59 minutes\n",
      "Epoch: 111/999 | Loss: 0.0355 | Episodes: 112 | Win count: 100 | Win rate: 1.000 | time: 33.70 minutes\n",
      "Epoch: 112/999 | Loss: 0.3351 | Episodes: 113 | Win count: 101 | Win rate: 1.000 | time: 34.51 minutes\n",
      "Epoch: 113/999 | Loss: 0.0865 | Episodes: 114 | Win count: 102 | Win rate: 1.000 | time: 34.72 minutes\n",
      "Epoch: 114/999 | Loss: 0.0245 | Episodes: 115 | Win count: 103 | Win rate: 1.000 | time: 34.80 minutes\n",
      "Epoch: 115/999 | Loss: 0.0791 | Episodes: 116 | Win count: 104 | Win rate: 1.000 | time: 34.99 minutes\n",
      "Epoch: 116/999 | Loss: 0.2998 | Episodes: 117 | Win count: 104 | Win rate: 0.969 | time: 36.01 minutes\n",
      "Epoch: 117/999 | Loss: 0.0244 | Episodes: 118 | Win count: 105 | Win rate: 0.969 | time: 36.09 minutes\n",
      "Epoch: 118/999 | Loss: 0.0027 | Episodes: 119 | Win count: 106 | Win rate: 0.969 | time: 36.10 minutes\n",
      "Epoch: 119/999 | Loss: 0.0318 | Episodes: 120 | Win count: 107 | Win rate: 0.969 | time: 36.19 minutes\n",
      "Epoch: 120/999 | Loss: 0.1189 | Episodes: 121 | Win count: 108 | Win rate: 0.969 | time: 36.59 minutes\n",
      "Epoch: 121/999 | Loss: 0.0228 | Episodes: 122 | Win count: 109 | Win rate: 0.969 | time: 36.65 minutes\n",
      "Epoch: 122/999 | Loss: 0.0528 | Episodes: 123 | Win count: 110 | Win rate: 0.969 | time: 36.83 minutes\n",
      "Epoch: 123/999 | Loss: 0.0284 | Episodes: 124 | Win count: 111 | Win rate: 0.969 | time: 36.93 minutes\n",
      "Epoch: 124/999 | Loss: 0.0041 | Episodes: 125 | Win count: 112 | Win rate: 0.969 | time: 36.94 minutes\n",
      "Epoch: 125/999 | Loss: 0.0070 | Episodes: 126 | Win count: 113 | Win rate: 0.969 | time: 36.97 minutes\n",
      "Epoch: 126/999 | Loss: 0.2774 | Episodes: 127 | Win count: 113 | Win rate: 0.938 | time: 37.94 minutes\n",
      "Epoch: 127/999 | Loss: 0.0477 | Episodes: 128 | Win count: 114 | Win rate: 0.938 | time: 38.06 minutes\n",
      "Epoch: 128/999 | Loss: 0.1968 | Episodes: 129 | Win count: 115 | Win rate: 0.938 | time: 38.69 minutes\n",
      "Epoch: 129/999 | Loss: 0.0681 | Episodes: 130 | Win count: 116 | Win rate: 0.938 | time: 38.93 minutes\n",
      "Epoch: 130/999 | Loss: 0.0172 | Episodes: 131 | Win count: 117 | Win rate: 0.938 | time: 38.99 minutes\n",
      "Epoch: 131/999 | Loss: 0.1091 | Episodes: 132 | Win count: 118 | Win rate: 0.938 | time: 39.31 minutes\n",
      "Epoch: 132/999 | Loss: 0.1015 | Episodes: 133 | Win count: 119 | Win rate: 0.938 | time: 39.58 minutes\n",
      "Epoch: 133/999 | Loss: 0.0716 | Episodes: 134 | Win count: 120 | Win rate: 0.938 | time: 39.83 minutes\n",
      "Epoch: 134/999 | Loss: 0.1100 | Episodes: 135 | Win count: 121 | Win rate: 0.938 | time: 40.30 minutes\n",
      "Epoch: 135/999 | Loss: 0.0511 | Episodes: 136 | Win count: 122 | Win rate: 0.938 | time: 40.58 minutes\n",
      "Epoch: 136/999 | Loss: 0.0830 | Episodes: 137 | Win count: 123 | Win rate: 0.938 | time: 40.98 minutes\n",
      "Epoch: 137/999 | Loss: 0.0463 | Episodes: 138 | Win count: 124 | Win rate: 0.938 | time: 41.14 minutes\n",
      "Epoch: 138/999 | Loss: 0.0362 | Episodes: 139 | Win count: 125 | Win rate: 0.938 | time: 41.32 minutes\n",
      "Epoch: 139/999 | Loss: 0.0589 | Episodes: 140 | Win count: 126 | Win rate: 0.938 | time: 41.65 minutes\n",
      "Epoch: 140/999 | Loss: 0.0360 | Episodes: 141 | Win count: 127 | Win rate: 0.938 | time: 41.89 minutes\n",
      "Epoch: 141/999 | Loss: 0.0283 | Episodes: 142 | Win count: 128 | Win rate: 0.938 | time: 42.07 minutes\n",
      "Epoch: 142/999 | Loss: 0.0062 | Episodes: 143 | Win count: 129 | Win rate: 0.938 | time: 42.10 minutes\n",
      "Epoch: 143/999 | Loss: 0.0267 | Episodes: 144 | Win count: 130 | Win rate: 0.938 | time: 42.26 minutes\n",
      "Epoch: 144/999 | Loss: 0.1411 | Episodes: 145 | Win count: 130 | Win rate: 0.906 | time: 43.22 minutes\n",
      "Epoch: 145/999 | Loss: 0.0030 | Episodes: 146 | Win count: 131 | Win rate: 0.906 | time: 43.25 minutes\n",
      "Epoch: 146/999 | Loss: 0.0390 | Episodes: 147 | Win count: 132 | Win rate: 0.906 | time: 43.53 minutes\n",
      "Epoch: 147/999 | Loss: 0.1403 | Episodes: 148 | Win count: 132 | Win rate: 0.875 | time: 44.48 minutes\n",
      "Epoch: 148/999 | Loss: 0.0038 | Episodes: 149 | Win count: 133 | Win rate: 0.906 | time: 44.52 minutes\n",
      "Epoch: 149/999 | Loss: 0.0024 | Episodes: 150 | Win count: 134 | Win rate: 0.906 | time: 44.54 minutes\n",
      "Epoch: 150/999 | Loss: 0.0490 | Episodes: 151 | Win count: 135 | Win rate: 0.906 | time: 44.99 minutes\n",
      "Epoch: 151/999 | Loss: 0.5990 | Episodes: 152 | Win count: 136 | Win rate: 0.906 | time: 45.69 minutes\n",
      "Epoch: 152/999 | Loss: 0.1144 | Episodes: 153 | Win count: 137 | Win rate: 0.906 | time: 45.97 minutes\n",
      "Epoch: 153/999 | Loss: 0.3426 | Episodes: 154 | Win count: 137 | Win rate: 0.875 | time: 46.94 minutes\n",
      "Epoch: 154/999 | Loss: 0.1294 | Episodes: 155 | Win count: 138 | Win rate: 0.875 | time: 47.32 minutes\n",
      "Epoch: 155/999 | Loss: 0.0656 | Episodes: 156 | Win count: 139 | Win rate: 0.875 | time: 47.49 minutes\n",
      "Epoch: 156/999 | Loss: 0.0902 | Episodes: 157 | Win count: 140 | Win rate: 0.875 | time: 47.68 minutes\n",
      "Epoch: 157/999 | Loss: 0.0586 | Episodes: 158 | Win count: 141 | Win rate: 0.875 | time: 47.84 minutes\n",
      "Epoch: 158/999 | Loss: 0.0162 | Episodes: 159 | Win count: 142 | Win rate: 0.906 | time: 47.87 minutes\n",
      "Epoch: 159/999 | Loss: 0.0327 | Episodes: 160 | Win count: 143 | Win rate: 0.906 | time: 47.92 minutes\n",
      "Epoch: 160/999 | Loss: 0.0523 | Episodes: 161 | Win count: 144 | Win rate: 0.906 | time: 48.04 minutes\n",
      "Epoch: 161/999 | Loss: 0.3143 | Episodes: 162 | Win count: 145 | Win rate: 0.906 | time: 48.49 minutes\n",
      "Epoch: 162/999 | Loss: 0.0567 | Episodes: 163 | Win count: 146 | Win rate: 0.906 | time: 48.56 minutes\n",
      "Epoch: 163/999 | Loss: 0.2539 | Episodes: 164 | Win count: 147 | Win rate: 0.906 | time: 48.91 minutes\n",
      "Epoch: 164/999 | Loss: 0.0593 | Episodes: 165 | Win count: 148 | Win rate: 0.906 | time: 49.05 minutes\n",
      "Epoch: 165/999 | Loss: 0.0706 | Episodes: 166 | Win count: 149 | Win rate: 0.906 | time: 49.23 minutes\n",
      "Epoch: 166/999 | Loss: 0.1448 | Episodes: 167 | Win count: 150 | Win rate: 0.906 | time: 49.48 minutes\n",
      "Epoch: 167/999 | Loss: 0.2841 | Episodes: 168 | Win count: 151 | Win rate: 0.906 | time: 50.19 minutes\n",
      "Epoch: 168/999 | Loss: 0.1029 | Episodes: 169 | Win count: 152 | Win rate: 0.906 | time: 50.51 minutes\n",
      "Epoch: 169/999 | Loss: 0.0044 | Episodes: 170 | Win count: 153 | Win rate: 0.906 | time: 50.52 minutes\n",
      "Epoch: 170/999 | Loss: 0.0113 | Episodes: 171 | Win count: 154 | Win rate: 0.906 | time: 50.55 minutes\n",
      "Epoch: 171/999 | Loss: 0.0976 | Episodes: 172 | Win count: 155 | Win rate: 0.906 | time: 50.86 minutes\n",
      "Epoch: 172/999 | Loss: 0.0033 | Episodes: 173 | Win count: 156 | Win rate: 0.906 | time: 50.88 minutes\n",
      "Epoch: 173/999 | Loss: 0.0581 | Episodes: 174 | Win count: 157 | Win rate: 0.906 | time: 51.09 minutes\n",
      "Epoch: 174/999 | Loss: 0.0142 | Episodes: 175 | Win count: 158 | Win rate: 0.906 | time: 51.16 minutes\n",
      "Epoch: 175/999 | Loss: 0.0088 | Episodes: 176 | Win count: 159 | Win rate: 0.906 | time: 51.18 minutes\n",
      "Epoch: 176/999 | Loss: 0.0109 | Episodes: 177 | Win count: 160 | Win rate: 0.938 | time: 51.22 minutes\n",
      "Epoch: 177/999 | Loss: 0.0182 | Episodes: 178 | Win count: 161 | Win rate: 0.938 | time: 51.29 minutes\n",
      "Epoch: 178/999 | Loss: 0.0212 | Episodes: 179 | Win count: 162 | Win rate: 0.938 | time: 51.37 minutes\n",
      "Epoch: 179/999 | Loss: 0.0263 | Episodes: 180 | Win count: 163 | Win rate: 0.969 | time: 51.48 minutes\n",
      "Epoch: 180/999 | Loss: 0.0181 | Episodes: 181 | Win count: 164 | Win rate: 0.969 | time: 51.58 minutes\n",
      "Epoch: 181/999 | Loss: 0.0038 | Episodes: 182 | Win count: 165 | Win rate: 0.969 | time: 51.59 minutes\n",
      "Epoch: 182/999 | Loss: 0.0102 | Episodes: 183 | Win count: 166 | Win rate: 0.969 | time: 51.64 minutes\n",
      "Epoch: 183/999 | Loss: 0.0093 | Episodes: 184 | Win count: 167 | Win rate: 0.969 | time: 51.69 minutes\n",
      "Epoch: 184/999 | Loss: 0.0627 | Episodes: 185 | Win count: 168 | Win rate: 0.969 | time: 52.02 minutes\n",
      "Epoch: 185/999 | Loss: 0.0319 | Episodes: 186 | Win count: 169 | Win rate: 1.000 | time: 52.17 minutes\n",
      "Epoch: 186/999 | Loss: 0.0114 | Episodes: 187 | Win count: 170 | Win rate: 1.000 | time: 52.25 minutes\n",
      "Epoch: 187/999 | Loss: 0.0343 | Episodes: 188 | Win count: 171 | Win rate: 1.000 | time: 52.45 minutes\n",
      "Epoch: 188/999 | Loss: 0.0147 | Episodes: 189 | Win count: 172 | Win rate: 1.000 | time: 52.54 minutes\n",
      "Epoch: 189/999 | Loss: 0.0049 | Episodes: 190 | Win count: 173 | Win rate: 1.000 | time: 52.57 minutes\n",
      "Epoch: 190/999 | Loss: 0.0148 | Episodes: 191 | Win count: 174 | Win rate: 1.000 | time: 52.66 minutes\n",
      "Epoch: 191/999 | Loss: 0.1089 | Episodes: 192 | Win count: 175 | Win rate: 1.000 | time: 53.17 minutes\n",
      "Epoch: 192/999 | Loss: 0.0485 | Episodes: 193 | Win count: 176 | Win rate: 1.000 | time: 53.42 minutes\n",
      "Epoch: 193/999 | Loss: 0.0187 | Episodes: 194 | Win count: 177 | Win rate: 1.000 | time: 53.52 minutes\n",
      "Epoch: 194/999 | Loss: 0.0342 | Episodes: 195 | Win count: 178 | Win rate: 1.000 | time: 53.68 minutes\n",
      "Epoch: 195/999 | Loss: 0.0225 | Episodes: 196 | Win count: 179 | Win rate: 1.000 | time: 53.83 minutes\n",
      "Epoch: 196/999 | Loss: 0.0168 | Episodes: 197 | Win count: 180 | Win rate: 1.000 | time: 53.95 minutes\n",
      "Epoch: 197/999 | Loss: 0.0729 | Episodes: 198 | Win count: 181 | Win rate: 1.000 | time: 54.34 minutes\n",
      "Epoch: 198/999 | Loss: 0.0216 | Episodes: 199 | Win count: 182 | Win rate: 1.000 | time: 54.45 minutes\n",
      "Epoch: 199/999 | Loss: 0.0497 | Episodes: 200 | Win count: 183 | Win rate: 1.000 | time: 54.67 minutes\n",
      "Epoch: 200/999 | Loss: 0.0306 | Episodes: 201 | Win count: 184 | Win rate: 1.000 | time: 54.81 minutes\n",
      "Epoch: 201/999 | Loss: 0.2182 | Episodes: 202 | Win count: 185 | Win rate: 1.000 | time: 54.91 minutes\n",
      "Epoch: 202/999 | Loss: 0.1511 | Episodes: 203 | Win count: 186 | Win rate: 1.000 | time: 54.97 minutes\n",
      "Epoch: 203/999 | Loss: 0.3312 | Episodes: 204 | Win count: 187 | Win rate: 1.000 | time: 55.13 minutes\n",
      "Epoch: 204/999 | Loss: 0.4522 | Episodes: 205 | Win count: 188 | Win rate: 1.000 | time: 55.44 minutes\n",
      "Epoch: 205/999 | Loss: 0.0410 | Episodes: 206 | Win count: 189 | Win rate: 1.000 | time: 55.50 minutes\n",
      "Epoch: 206/999 | Loss: 0.0041 | Episodes: 207 | Win count: 190 | Win rate: 1.000 | time: 55.52 minutes\n",
      "Epoch: 207/999 | Loss: 0.2448 | Episodes: 208 | Win count: 191 | Win rate: 1.000 | time: 56.03 minutes\n",
      "Epoch: 208/999 | Loss: 0.0518 | Episodes: 209 | Win count: 192 | Win rate: 1.000 | time: 56.18 minutes\n",
      "Epoch: 209/999 | Loss: 0.0806 | Episodes: 210 | Win count: 193 | Win rate: 1.000 | time: 56.40 minutes\n",
      "Epoch: 210/999 | Loss: 0.0084 | Episodes: 211 | Win count: 194 | Win rate: 1.000 | time: 56.43 minutes\n",
      "Epoch: 211/999 | Loss: 0.0342 | Episodes: 212 | Win count: 195 | Win rate: 1.000 | time: 56.54 minutes\n",
      "Epoch: 212/999 | Loss: 0.0160 | Episodes: 213 | Win count: 196 | Win rate: 1.000 | time: 56.60 minutes\n",
      "Epoch: 213/999 | Loss: 0.1410 | Episodes: 214 | Win count: 197 | Win rate: 1.000 | time: 57.04 minutes\n",
      "Epoch: 214/999 | Loss: 0.0790 | Episodes: 215 | Win count: 198 | Win rate: 1.000 | time: 57.29 minutes\n",
      "Epoch: 215/999 | Loss: 0.0698 | Episodes: 216 | Win count: 199 | Win rate: 1.000 | time: 57.49 minutes\n",
      "Epoch: 216/999 | Loss: 0.0109 | Episodes: 217 | Win count: 200 | Win rate: 1.000 | time: 57.54 minutes\n",
      "Epoch: 217/999 | Loss: 0.0577 | Episodes: 218 | Win count: 201 | Win rate: 1.000 | time: 57.71 minutes\n",
      "Epoch: 218/999 | Loss: 0.0046 | Episodes: 219 | Win count: 202 | Win rate: 1.000 | time: 57.73 minutes\n",
      "Epoch: 219/999 | Loss: 0.0544 | Episodes: 220 | Win count: 203 | Win rate: 1.000 | time: 57.92 minutes\n",
      "Epoch: 220/999 | Loss: 0.0440 | Episodes: 221 | Win count: 204 | Win rate: 1.000 | time: 58.06 minutes\n",
      "Epoch: 221/999 | Loss: 0.0249 | Episodes: 222 | Win count: 205 | Win rate: 1.000 | time: 58.15 minutes\n",
      "Epoch: 222/999 | Loss: 0.0032 | Episodes: 223 | Win count: 206 | Win rate: 1.000 | time: 58.17 minutes\n",
      "Epoch: 223/999 | Loss: 0.0647 | Episodes: 224 | Win count: 207 | Win rate: 1.000 | time: 58.47 minutes\n",
      "Epoch: 224/999 | Loss: 0.0402 | Episodes: 225 | Win count: 208 | Win rate: 1.000 | time: 58.65 minutes\n",
      "Epoch: 225/999 | Loss: 0.0248 | Episodes: 226 | Win count: 209 | Win rate: 1.000 | time: 58.76 minutes\n",
      "Epoch: 226/999 | Loss: 0.0437 | Episodes: 227 | Win count: 210 | Win rate: 1.000 | time: 58.97 minutes\n",
      "Epoch: 227/999 | Loss: 0.0109 | Episodes: 228 | Win count: 211 | Win rate: 1.000 | time: 59.03 minutes\n",
      "Epoch: 228/999 | Loss: 0.0665 | Episodes: 229 | Win count: 212 | Win rate: 1.000 | time: 59.31 minutes\n",
      "Epoch: 229/999 | Loss: 0.0156 | Episodes: 230 | Win count: 213 | Win rate: 1.000 | time: 59.38 minutes\n",
      "Reached 100% win rate at epoch: 229\n",
      "Training Complete in: 59.45 minutes\n"
     ]
    }
   ],
   "source": [
    "model = build_model(maze)\n",
    "qtrain(model, maze, n_epoch=1000, max_memory=8*maze.size, data_size=32, target_update_freq=50)"
   ]
  },
  {
   "cell_type": "markdown",
   "metadata": {},
   "source": [
    "This cell will check to see if the model passes the completion check. Note: This could take several minutes."
   ]
  },
  {
   "cell_type": "code",
   "execution_count": 15,
   "metadata": {},
   "outputs": [
    {
     "data": {
      "text/plain": [
       "<matplotlib.image.AxesImage at 0x7857263b6fd0>"
      ]
     },
     "execution_count": 15,
     "metadata": {},
     "output_type": "execute_result"
    },
    {
     "data": {
      "image/png": "[encoded data removed]",
      "text/plain": [
       "<Figure size 640x480 with 1 Axes>"
      ]
     },
     "metadata": {},
     "output_type": "display_data"
    }
   ],
   "source": [
    "completion_check(model, qmaze)\n",
    "show(qmaze)"
   ]
  },
  {
   "cell_type": "markdown",
   "metadata": {},
   "source": [
    "This cell will test your model for one game. It will start the pirate at the top-left corner and run play_game. The agent should find a path from the starting position to the target (treasure). The treasure is located in the bottom-right corner."
   ]
  },
  {
   "cell_type": "code",
   "execution_count": 16,
   "metadata": {},
   "outputs": [
    {
     "data": {
      "text/plain": [
       "<matplotlib.image.AxesImage at 0x78572059a250>"
      ]
     },
     "execution_count": 16,
     "metadata": {},
     "output_type": "execute_result"
    },
    {
     "data": {
      "image/png": "[encoded data removed]",
      "text/plain": [
       "<Figure size 640x480 with 1 Axes>"
      ]
     },
     "metadata": {},
     "output_type": "display_data"
    }
   ],
   "source": [
    "pirate_start = (0, 0)\n",
    "play_game(model, qmaze, pirate_start)\n",
    "show(qmaze)"
   ]
  },
  {
   "cell_type": "markdown",
   "metadata": {},
   "source": [
    "## Save and Submit Your Work\n",
    "After you have finished creating the code for your notebook, save your work.\n",
    "Make sure that your notebook contains your name in the filename (e.g. Doe_Jane_ProjectTwo.html). Download this file as an .html file clicking on ***file*** in *Jupyter Notebook*, navigating down to ***Download as*** and clicking on ***.html***. \n",
    "Download a copy of your .html file and submit it to Brightspace."
   ]
  },
  {
   "cell_type": "code",
   "execution_count": null,
   "metadata": {},
   "outputs": [],
   "source": []
  }
 ],
 "metadata": {
  "kernelspec": {
   "display_name": "Python 3 (ipykernel)",
   "language": "python",
   "name": "python3"
  },
  "language_info": {
   "codemirror_mode": {
    "name": "ipython",
    "version": 3
   },
   "file_extension": ".py",
   "mimetype": "text/x-python",
   "name": "python",
   "nbconvert_exporter": "python",
   "pygments_lexer": "ipython3",
   "version": "3.11.2"
  }
 },
 "nbformat": 4,
 "nbformat_minor": 2
}
